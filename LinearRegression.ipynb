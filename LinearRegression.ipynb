{
 "cells": [
  {
   "cell_type": "code",
   "execution_count": 7,
   "id": "d10f0c0a",
   "metadata": {},
   "outputs": [
    {
     "data": {
      "text/html": [
       "<div>\n",
       "<style scoped>\n",
       "    .dataframe tbody tr th:only-of-type {\n",
       "        vertical-align: middle;\n",
       "    }\n",
       "\n",
       "    .dataframe tbody tr th {\n",
       "        vertical-align: top;\n",
       "    }\n",
       "\n",
       "    .dataframe thead th {\n",
       "        text-align: right;\n",
       "    }\n",
       "</style>\n",
       "<table border=\"1\" class=\"dataframe\">\n",
       "  <thead>\n",
       "    <tr style=\"text-align: right;\">\n",
       "      <th></th>\n",
       "      <th>Ad ID</th>\n",
       "      <th>Car Name</th>\n",
       "      <th>Make</th>\n",
       "      <th>Model</th>\n",
       "      <th>Year</th>\n",
       "      <th>KM's driven</th>\n",
       "      <th>Price</th>\n",
       "      <th>Fuel</th>\n",
       "      <th>Registration city</th>\n",
       "      <th>Car documents</th>\n",
       "      <th>Assembly</th>\n",
       "      <th>Transmission</th>\n",
       "      <th>Condition</th>\n",
       "      <th>Seller Location</th>\n",
       "      <th>Description</th>\n",
       "      <th>Car Features</th>\n",
       "      <th>Images URL's</th>\n",
       "      <th>Car Profile</th>\n",
       "    </tr>\n",
       "  </thead>\n",
       "  <tbody>\n",
       "    <tr>\n",
       "      <th>0</th>\n",
       "      <td>1079071571</td>\n",
       "      <td>fresh import Passo 2021model</td>\n",
       "      <td>Toyota</td>\n",
       "      <td>Passo</td>\n",
       "      <td>2021</td>\n",
       "      <td>54000</td>\n",
       "      <td>4190000</td>\n",
       "      <td>Petrol</td>\n",
       "      <td>Unregistered</td>\n",
       "      <td>Original</td>\n",
       "      <td>Imported</td>\n",
       "      <td>Automatic</td>\n",
       "      <td>Used</td>\n",
       "      <td>Airline Avenue, Islamabad</td>\n",
       "      <td>it's 2021 model fresh import, perfect engine s...</td>\n",
       "      <td>ABS, Air Bags, AM/FM Radio, CD Player, Cassett...</td>\n",
       "      <td>['https://images.olx.com.pk/thumbnails/4039460...</td>\n",
       "      <td>https://www.olx.com.pk/item/fresh-import-passo...</td>\n",
       "    </tr>\n",
       "    <tr>\n",
       "      <th>1</th>\n",
       "      <td>1080125520</td>\n",
       "      <td>Suzuki ravi</td>\n",
       "      <td>Suzuki</td>\n",
       "      <td>Ravi</td>\n",
       "      <td>2018</td>\n",
       "      <td>95000</td>\n",
       "      <td>1300000</td>\n",
       "      <td>Petrol</td>\n",
       "      <td>Karachi</td>\n",
       "      <td>Original</td>\n",
       "      <td>Local</td>\n",
       "      <td>Manual</td>\n",
       "      <td>Used</td>\n",
       "      <td>Kahuta, Rawalpindi</td>\n",
       "      <td>Suzuki ravi 2018 col</td>\n",
       "      <td>AM/FM Radio</td>\n",
       "      <td>['https://images.olx.com.pk/thumbnails/4102504...</td>\n",
       "      <td>https://www.olx.com.pk/item/suzuki-ravi-iid-10...</td>\n",
       "    </tr>\n",
       "    <tr>\n",
       "      <th>2</th>\n",
       "      <td>1080748789</td>\n",
       "      <td>Suzuki bolan 2015 contact 03112271054</td>\n",
       "      <td>Suzuki</td>\n",
       "      <td>Bolan</td>\n",
       "      <td>2015</td>\n",
       "      <td>50000</td>\n",
       "      <td>800000</td>\n",
       "      <td>Petrol</td>\n",
       "      <td>Karachi</td>\n",
       "      <td>Original</td>\n",
       "      <td>Local</td>\n",
       "      <td>Manual</td>\n",
       "      <td>Used</td>\n",
       "      <td>Lyari Expressway, Karachi</td>\n",
       "      <td>Suzuki bolan model 2015 reg 2022 ghadi me koi ...</td>\n",
       "      <td>Rear speakers</td>\n",
       "      <td>['https://images.olx.com.pk/thumbnails/4139520...</td>\n",
       "      <td>https://www.olx.com.pk/item/suzuki-bolan-2015-...</td>\n",
       "    </tr>\n",
       "    <tr>\n",
       "      <th>3</th>\n",
       "      <td>1076081635</td>\n",
       "      <td>Diahatsu Move 2013</td>\n",
       "      <td>Daihatsu</td>\n",
       "      <td>Move</td>\n",
       "      <td>2013</td>\n",
       "      <td>94000</td>\n",
       "      <td>2155000</td>\n",
       "      <td>Petrol</td>\n",
       "      <td>Lahore</td>\n",
       "      <td>Original</td>\n",
       "      <td>Imported</td>\n",
       "      <td>Automatic</td>\n",
       "      <td>Used</td>\n",
       "      <td>New Amir Town, Lahore</td>\n",
       "      <td>Move Push start \\nHome Used car. \\nModel 2013....</td>\n",
       "      <td>ABS, Air Bags, Air Conditioning, Alloy Rims, A...</td>\n",
       "      <td>['https://images.olx.com.pk/thumbnails/3865337...</td>\n",
       "      <td>https://www.olx.com.pk/item/diahatsu-move-2013...</td>\n",
       "    </tr>\n",
       "    <tr>\n",
       "      <th>4</th>\n",
       "      <td>1080812928</td>\n",
       "      <td>Suzuki Swift DLX 2011 miner tuchap</td>\n",
       "      <td>Suzuki</td>\n",
       "      <td>Swift</td>\n",
       "      <td>2011</td>\n",
       "      <td>126544</td>\n",
       "      <td>1440000</td>\n",
       "      <td>Petrol</td>\n",
       "      <td>Karachi</td>\n",
       "      <td>Original</td>\n",
       "      <td>Local</td>\n",
       "      <td>Manual</td>\n",
       "      <td>Used</td>\n",
       "      <td>Shadman 2, Karachi</td>\n",
       "      <td>Suzuki Swift DLX\\nAbS Break 100%\\nengine 100%\\...</td>\n",
       "      <td>ABS, Air Conditioning, Alloy Rims, AM/FM Radio...</td>\n",
       "      <td>['https://images.olx.com.pk/thumbnails/4143509...</td>\n",
       "      <td>https://www.olx.com.pk/item/suzuki-swift-dlx-2...</td>\n",
       "    </tr>\n",
       "  </tbody>\n",
       "</table>\n",
       "</div>"
      ],
      "text/plain": [
       "        Ad ID                               Car Name      Make  Model  Year  \\\n",
       "0  1079071571           fresh import Passo 2021model    Toyota  Passo  2021   \n",
       "1  1080125520                            Suzuki ravi    Suzuki   Ravi  2018   \n",
       "2  1080748789  Suzuki bolan 2015 contact 03112271054    Suzuki  Bolan  2015   \n",
       "3  1076081635                     Diahatsu Move 2013  Daihatsu   Move  2013   \n",
       "4  1080812928     Suzuki Swift DLX 2011 miner tuchap    Suzuki  Swift  2011   \n",
       "\n",
       "   KM's driven    Price    Fuel Registration city Car documents  Assembly  \\\n",
       "0        54000  4190000  Petrol      Unregistered      Original  Imported   \n",
       "1        95000  1300000  Petrol           Karachi      Original     Local   \n",
       "2        50000   800000  Petrol           Karachi      Original     Local   \n",
       "3        94000  2155000  Petrol            Lahore      Original  Imported   \n",
       "4       126544  1440000  Petrol           Karachi      Original     Local   \n",
       "\n",
       "  Transmission Condition            Seller Location  \\\n",
       "0    Automatic      Used  Airline Avenue, Islamabad   \n",
       "1       Manual      Used         Kahuta, Rawalpindi   \n",
       "2       Manual      Used  Lyari Expressway, Karachi   \n",
       "3    Automatic      Used      New Amir Town, Lahore   \n",
       "4       Manual      Used         Shadman 2, Karachi   \n",
       "\n",
       "                                         Description  \\\n",
       "0  it's 2021 model fresh import, perfect engine s...   \n",
       "1                              Suzuki ravi 2018 col    \n",
       "2  Suzuki bolan model 2015 reg 2022 ghadi me koi ...   \n",
       "3  Move Push start \\nHome Used car. \\nModel 2013....   \n",
       "4  Suzuki Swift DLX\\nAbS Break 100%\\nengine 100%\\...   \n",
       "\n",
       "                                        Car Features  \\\n",
       "0  ABS, Air Bags, AM/FM Radio, CD Player, Cassett...   \n",
       "1                                        AM/FM Radio   \n",
       "2                                      Rear speakers   \n",
       "3  ABS, Air Bags, Air Conditioning, Alloy Rims, A...   \n",
       "4  ABS, Air Conditioning, Alloy Rims, AM/FM Radio...   \n",
       "\n",
       "                                        Images URL's  \\\n",
       "0  ['https://images.olx.com.pk/thumbnails/4039460...   \n",
       "1  ['https://images.olx.com.pk/thumbnails/4102504...   \n",
       "2  ['https://images.olx.com.pk/thumbnails/4139520...   \n",
       "3  ['https://images.olx.com.pk/thumbnails/3865337...   \n",
       "4  ['https://images.olx.com.pk/thumbnails/4143509...   \n",
       "\n",
       "                                         Car Profile  \n",
       "0  https://www.olx.com.pk/item/fresh-import-passo...  \n",
       "1  https://www.olx.com.pk/item/suzuki-ravi-iid-10...  \n",
       "2  https://www.olx.com.pk/item/suzuki-bolan-2015-...  \n",
       "3  https://www.olx.com.pk/item/diahatsu-move-2013...  \n",
       "4  https://www.olx.com.pk/item/suzuki-swift-dlx-2...  "
      ]
     },
     "execution_count": 7,
     "metadata": {},
     "output_type": "execute_result"
    }
   ],
   "source": [
    "import pandas as pd\n",
    "import matplotlib.pyplot as plt\n",
    "\n",
    "cars_csv_data = pd.read_csv('dataSets/OLX_cars_dataset00.csv')\n",
    "\n",
    "# Display the first few rows of the loaded data\n",
    "cars_csv_data.head()"
   ]
  },
  {
   "cell_type": "code",
   "execution_count": 5,
   "id": "e3c6d5a5",
   "metadata": {},
   "outputs": [
    {
     "data": {
      "text/plain": [
       "array([2021, 2018, 2015, ..., 2001, 2009, 2016])"
      ]
     },
     "execution_count": 5,
     "metadata": {},
     "output_type": "execute_result"
    }
   ],
   "source": [
    "x = cars_csv_data['Year'].values\n",
    "x"
   ]
  },
  {
   "cell_type": "code",
   "execution_count": 13,
   "id": "3732cae3",
   "metadata": {},
   "outputs": [
    {
     "data": {
      "text/plain": [
       "array([4190000, 1300000,  800000, ..., 1100000,  970000, 2050000])"
      ]
     },
     "execution_count": 13,
     "metadata": {},
     "output_type": "execute_result"
    }
   ],
   "source": [
    "y = cars_csv_data['Price'].values\n",
    "y"
   ]
  },
  {
   "cell_type": "code",
   "execution_count": 18,
   "id": "ad5e588f",
   "metadata": {},
   "outputs": [
    {
     "data": {
      "image/png": "[encoded data removed]",
      "text/plain": [
       "<Figure size 1008x288 with 1 Axes>"
      ]
     },
     "metadata": {
      "needs_background": "light"
     },
     "output_type": "display_data"
    }
   ],
   "source": [
    "plt.figure(figsize=(14, 4))\n",
    "plt.scatter(x, y)\n",
    "plt.show()"
   ]
  },
  {
   "cell_type": "markdown",
   "id": "836811c6",
   "metadata": {},
   "source": [
    "## Split into training and testing data"
   ]
  },
  {
   "cell_type": "code",
   "execution_count": 20,
   "id": "6e903bde",
   "metadata": {},
   "outputs": [],
   "source": [
    "from sklearn.model_selection import train_test_split as tts"
   ]
  },
  {
   "cell_type": "code",
   "execution_count": 21,
   "id": "450a8bdf",
   "metadata": {},
   "outputs": [],
   "source": [
    "x_train, x_test, y_train, y_test = tts(x, y, test_size=0.2, random_state=0)"
   ]
  },
  {
   "cell_type": "code",
   "execution_count": 44,
   "id": "cb484264",
   "metadata": {},
   "outputs": [],
   "source": [
    "x_train = x_train.reshape(-1, 1)"
   ]
  },
  {
   "cell_type": "code",
   "execution_count": 45,
   "id": "978f228a",
   "metadata": {},
   "outputs": [],
   "source": [
    "y_train = y_train.reshape(-1, 1)"
   ]
  },
  {
   "cell_type": "markdown",
   "id": "e1c0b600",
   "metadata": {},
   "source": [
    "## Training the model"
   ]
  },
  {
   "cell_type": "code",
   "execution_count": 46,
   "id": "8624b36a",
   "metadata": {},
   "outputs": [],
   "source": [
    "from sklearn.linear_model import LinearRegression "
   ]
  },
  {
   "cell_type": "code",
   "execution_count": 47,
   "id": "d90a4433",
   "metadata": {},
   "outputs": [
    {
     "data": {
      "text/html": [
       "<style>#sk-container-id-2 {color: black;}#sk-container-id-2 pre{padding: 0;}#sk-container-id-2 div.sk-toggleable {background-color: white;}#sk-container-id-2 label.sk-toggleable__label {cursor: pointer;display: block;width: 100%;margin-bottom: 0;padding: 0.3em;box-sizing: border-box;text-align: center;}#sk-container-id-2 label.sk-toggleable__label-arrow:before {content: \"▸\";float: left;margin-right: 0.25em;color: #696969;}#sk-container-id-2 label.sk-toggleable__label-arrow:hover:before {color: black;}#sk-container-id-2 div.sk-estimator:hover label.sk-toggleable__label-arrow:before {color: black;}#sk-container-id-2 div.sk-toggleable__content {max-height: 0;max-width: 0;overflow: hidden;text-align: left;background-color: #f0f8ff;}#sk-container-id-2 div.sk-toggleable__content pre {margin: 0.2em;color: black;border-radius: 0.25em;background-color: #f0f8ff;}#sk-container-id-2 input.sk-toggleable__control:checked~div.sk-toggleable__content {max-height: 200px;max-width: 100%;overflow: auto;}#sk-container-id-2 input.sk-toggleable__control:checked~label.sk-toggleable__label-arrow:before {content: \"▾\";}#sk-container-id-2 div.sk-estimator input.sk-toggleable__control:checked~label.sk-toggleable__label {background-color: #d4ebff;}#sk-container-id-2 div.sk-label input.sk-toggleable__control:checked~label.sk-toggleable__label {background-color: #d4ebff;}#sk-container-id-2 input.sk-hidden--visually {border: 0;clip: rect(1px 1px 1px 1px);clip: rect(1px, 1px, 1px, 1px);height: 1px;margin: -1px;overflow: hidden;padding: 0;position: absolute;width: 1px;}#sk-container-id-2 div.sk-estimator {font-family: monospace;background-color: #f0f8ff;border: 1px dotted black;border-radius: 0.25em;box-sizing: border-box;margin-bottom: 0.5em;}#sk-container-id-2 div.sk-estimator:hover {background-color: #d4ebff;}#sk-container-id-2 div.sk-parallel-item::after {content: \"\";width: 100%;border-bottom: 1px solid gray;flex-grow: 1;}#sk-container-id-2 div.sk-label:hover label.sk-toggleable__label {background-color: #d4ebff;}#sk-container-id-2 div.sk-serial::before {content: \"\";position: absolute;border-left: 1px solid gray;box-sizing: border-box;top: 0;bottom: 0;left: 50%;z-index: 0;}#sk-container-id-2 div.sk-serial {display: flex;flex-direction: column;align-items: center;background-color: white;padding-right: 0.2em;padding-left: 0.2em;position: relative;}#sk-container-id-2 div.sk-item {position: relative;z-index: 1;}#sk-container-id-2 div.sk-parallel {display: flex;align-items: stretch;justify-content: center;background-color: white;position: relative;}#sk-container-id-2 div.sk-item::before, #sk-container-id-2 div.sk-parallel-item::before {content: \"\";position: absolute;border-left: 1px solid gray;box-sizing: border-box;top: 0;bottom: 0;left: 50%;z-index: -1;}#sk-container-id-2 div.sk-parallel-item {display: flex;flex-direction: column;z-index: 1;position: relative;background-color: white;}#sk-container-id-2 div.sk-parallel-item:first-child::after {align-self: flex-end;width: 50%;}#sk-container-id-2 div.sk-parallel-item:last-child::after {align-self: flex-start;width: 50%;}#sk-container-id-2 div.sk-parallel-item:only-child::after {width: 0;}#sk-container-id-2 div.sk-dashed-wrapped {border: 1px dashed gray;margin: 0 0.4em 0.5em 0.4em;box-sizing: border-box;padding-bottom: 0.4em;background-color: white;}#sk-container-id-2 div.sk-label label {font-family: monospace;font-weight: bold;display: inline-block;line-height: 1.2em;}#sk-container-id-2 div.sk-label-container {text-align: center;}#sk-container-id-2 div.sk-container {/* jupyter's `normalize.less` sets `[hidden] { display: none; }` but bootstrap.min.css set `[hidden] { display: none !important; }` so we also need the `!important` here to be able to override the default hidden behavior on the sphinx rendered scikit-learn.org. See: https://github.com/scikit-learn/scikit-learn/issues/21755 */display: inline-block !important;position: relative;}#sk-container-id-2 div.sk-text-repr-fallback {display: none;}</style><div id=\"sk-container-id-2\" class=\"sk-top-container\"><div class=\"sk-text-repr-fallback\"><pre>LinearRegression()</pre><b>In a Jupyter environment, please rerun this cell to show the HTML representation or trust the notebook. <br />On GitHub, the HTML representation is unable to render, please try loading this page with nbviewer.org.</b></div><div class=\"sk-container\" hidden><div class=\"sk-item\"><div class=\"sk-estimator sk-toggleable\"><input class=\"sk-toggleable__control sk-hidden--visually\" id=\"sk-estimator-id-2\" type=\"checkbox\" checked><label for=\"sk-estimator-id-2\" class=\"sk-toggleable__label sk-toggleable__label-arrow\">LinearRegression</label><div class=\"sk-toggleable__content\"><pre>LinearRegression()</pre></div></div></div></div></div>"
      ],
      "text/plain": [
       "LinearRegression()"
      ]
     },
     "execution_count": 47,
     "metadata": {},
     "output_type": "execute_result"
    }
   ],
   "source": [
    "\n",
    "model = LinearRegression()\n",
    "model.fit(x_train, y_train)"
   ]
  },
  {
   "cell_type": "markdown",
   "id": "4d71e859",
   "metadata": {},
   "source": [
    "## Predicting data using the trained model"
   ]
  },
  {
   "cell_type": "code",
   "execution_count": null,
   "id": "d3ee5132",
   "metadata": {},
   "outputs": [],
   "source": []
  }
 ],
 "metadata": {
  "kernelspec": {
   "display_name": "Python 3 (ipykernel)",
   "language": "python",
   "name": "python3"
  },
  "language_info": {
   "codemirror_mode": {
    "name": "ipython",
    "version": 3
   },
   "file_extension": ".py",
   "mimetype": "text/x-python",
   "name": "python",
   "nbconvert_exporter": "python",
   "pygments_lexer": "ipython3",
   "version": "3.10.12"
  }
 },
 "nbformat": 4,
 "nbformat_minor": 5
}
